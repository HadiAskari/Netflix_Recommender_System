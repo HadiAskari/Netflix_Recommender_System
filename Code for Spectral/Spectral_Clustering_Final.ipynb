{
 "cells": [
  {
   "cell_type": "code",
   "execution_count": 2,
   "metadata": {},
   "outputs": [
    {
     "name": "stderr",
     "output_type": "stream",
     "text": [
      "/home/haskari/.conda/envs/ML/lib/python3.9/site-packages/tqdm/auto.py:22: TqdmWarning: IProgress not found. Please update jupyter and ipywidgets. See https://ipywidgets.readthedocs.io/en/stable/user_install.html\n",
      "  from .autonotebook import tqdm as notebook_tqdm\n"
     ]
    }
   ],
   "source": [
    "import pandas as pd\n",
    "import numpy as np\n",
    "from sklearn.model_selection import train_test_split\n",
    "from sklearn.metrics.pairwise import cosine_similarity\n",
    "from sklearn.cluster import SpectralClustering\n",
    "from sklearn.metrics import mean_squared_error\n",
    "import numpy as np\n",
    "from scipy.sparse.linalg import svds\n",
    "from functools import partial\n",
    "from scipy.sparse import csc_matrix\n",
    "from sklearn.neighbors import kneighbors_graph\n",
    "from tqdm.auto import tqdm"
   ]
  },
  {
   "cell_type": "code",
   "execution_count": 3,
   "metadata": {},
   "outputs": [],
   "source": [
    "data = pd.read_csv(\"train.csv\", sep=\",\")\n",
    "data['rating'] = data['rating'].astype(float)\n",
    "training_data1, validation_data = train_test_split(data, random_state= 2,test_size=0.1)"
   ]
  },
  {
   "cell_type": "code",
   "execution_count": 4,
   "metadata": {},
   "outputs": [
    {
     "name": "stdout",
     "output_type": "stream",
     "text": [
      "<bound method NDFrame.head of movie-id     1      2      3      4      5      6      8      11     12     \\\n",
      "customer-id                                                                  \n",
      "6              NaN    NaN    NaN    NaN    NaN    NaN    NaN    NaN    NaN   \n",
      "7              NaN    NaN    NaN    NaN    NaN    NaN    5.0    NaN    NaN   \n",
      "8              NaN    NaN    NaN    NaN    NaN    NaN    NaN    NaN    NaN   \n",
      "10             NaN    NaN    NaN    NaN    NaN    NaN    NaN    NaN    NaN   \n",
      "25             NaN    NaN    NaN    NaN    NaN    NaN    NaN    NaN    NaN   \n",
      "...            ...    ...    ...    ...    ...    ...    ...    ...    ...   \n",
      "33152          NaN    NaN    NaN    NaN    NaN    NaN    NaN    NaN    NaN   \n",
      "33154          NaN    NaN    NaN    NaN    NaN    NaN    NaN    NaN    NaN   \n",
      "33155          NaN    NaN    NaN    NaN    NaN    NaN    NaN    NaN    NaN   \n",
      "33160          NaN    NaN    NaN    NaN    NaN    NaN    NaN    NaN    NaN   \n",
      "33182          NaN    NaN    NaN    NaN    NaN    NaN    NaN    NaN    NaN   \n",
      "\n",
      "movie-id     14     ...  17761  17762  17763  17764  17765  17766  17767  \\\n",
      "customer-id         ...                                                    \n",
      "6              NaN  ...    NaN    NaN    NaN    NaN    NaN    NaN    NaN   \n",
      "7              NaN  ...    NaN    NaN    NaN    NaN    NaN    NaN    NaN   \n",
      "8              NaN  ...    NaN    NaN    NaN    NaN    NaN    NaN    NaN   \n",
      "10             NaN  ...    NaN    NaN    NaN    NaN    NaN    NaN    NaN   \n",
      "25             NaN  ...    NaN    NaN    NaN    NaN    NaN    NaN    NaN   \n",
      "...            ...  ...    ...    ...    ...    ...    ...    ...    ...   \n",
      "33152          NaN  ...    NaN    NaN    NaN    NaN    NaN    NaN    NaN   \n",
      "33154          NaN  ...    2.0    NaN    NaN    NaN    NaN    NaN    NaN   \n",
      "33155          NaN  ...    NaN    NaN    NaN    NaN    NaN    NaN    NaN   \n",
      "33160          NaN  ...    NaN    NaN    NaN    NaN    NaN    NaN    NaN   \n",
      "33182          NaN  ...    NaN    NaN    NaN    NaN    NaN    NaN    NaN   \n",
      "\n",
      "movie-id     17768  17769  17770  \n",
      "customer-id                       \n",
      "6              NaN    NaN    NaN  \n",
      "7              NaN    NaN    NaN  \n",
      "8              NaN    NaN    NaN  \n",
      "10             NaN    NaN    NaN  \n",
      "25             NaN    NaN    NaN  \n",
      "...            ...    ...    ...  \n",
      "33152          NaN    NaN    NaN  \n",
      "33154          NaN    NaN    NaN  \n",
      "33155          NaN    NaN    NaN  \n",
      "33160          NaN    NaN    NaN  \n",
      "33182          NaN    NaN    NaN  \n",
      "\n",
      "[5901 rows x 15915 columns]>\n"
     ]
    }
   ],
   "source": [
    "user_X_movie = training_data1.pivot_table(index='customer-id', columns='movie-id', values='rating')\n",
    "user_X_movie_zeros = user_X_movie.fillna(np.nan)\n",
    "print(user_X_movie_zeros.head)\n"
   ]
  },
  {
   "cell_type": "code",
   "execution_count": 5,
   "metadata": {},
   "outputs": [],
   "source": [
    "\n",
    "\n",
    "def emsvd(Y, k=None, tol=1E-3, maxiter=None):\n",
    "\n",
    "\n",
    "    if k is None:\n",
    "        svdmethod = partial(np.linalg.svd, full_matrices=False)\n",
    "    else:\n",
    "        svdmethod = partial(svds, k=k)\n",
    "    if maxiter is None:\n",
    "        maxiter = np.inf\n",
    "  # initialize the missing values to their respective column means\n",
    "    mu_hat = np.nanmean(Y, axis=0, keepdims=1)\n",
    "    #mu_hat=0\n",
    "    valid = np.isfinite(Y)\n",
    "    Y_hat = np.where(valid, Y, mu_hat)\n",
    "\n",
    "    halt = False\n",
    "    ii = 1\n",
    "    v_prev = 0\n",
    "\n",
    "    while not halt:\n",
    "\n",
    "        # SVD on filled-in data\n",
    "        U, s, Vt = svdmethod(Y_hat - mu_hat)\n",
    "\n",
    "        # impute missing values\n",
    "        Y_hat[~valid] = (U.dot(np.diag(s)).dot(Vt) + mu_hat)[~valid]\n",
    "\n",
    "        # update bias parameter\n",
    "        mu_hat = Y_hat.mean(axis=0, keepdims=1)\n",
    "\n",
    "        # test convergence using relative change in trace norm\n",
    "        v = s.sum()\n",
    "        if ii >= maxiter or ((v - v_prev) / v_prev) < tol:\n",
    "            halt = True\n",
    "        ii += 1\n",
    "        v_prev = v\n",
    "\n",
    "    return Y_hat, mu_hat, U, s, Vt"
   ]
  },
  {
   "cell_type": "code",
   "execution_count": 6,
   "metadata": {},
   "outputs": [],
   "source": [
    "svdres, lol, users, lol1, lol2=emsvd(user_X_movie_zeros)"
   ]
  },
  {
   "cell_type": "code",
   "execution_count": null,
   "metadata": {},
   "outputs": [],
   "source": [
    "neighbours = kneighbors_graph(users,n_neighbors=10, mode='distance', metric='minkowski')"
   ]
  },
  {
   "cell_type": "code",
   "execution_count": null,
   "metadata": {},
   "outputs": [],
   "source": [
    "# print(svdres.shape)"
   ]
  },
  {
   "cell_type": "code",
   "execution_count": null,
   "metadata": {},
   "outputs": [
    {
     "name": "stdout",
     "output_type": "stream",
     "text": [
      "[[4. 5. 4. ... 3. 2. 3.]\n",
      " [4. 5. 4. ... 3. 2. 3.]\n",
      " [4. 5. 4. ... 3. 2. 3.]\n",
      " ...\n",
      " [4. 5. 4. ... 3. 2. 3.]\n",
      " [4. 5. 4. ... 3. 2. 3.]\n",
      " [4. 5. 4. ... 3. 2. 3.]]\n"
     ]
    }
   ],
   "source": [
    "print(svdres.round())"
   ]
  },
  {
   "cell_type": "code",
   "execution_count": null,
   "metadata": {},
   "outputs": [],
   "source": [
    "# cos_sim = cosine_similarity(svdres)\n",
    "# cos_sim = 2 - cos_sim \n",
    "# for i in range(cos_sim.shape[0]):\n",
    "#     cos_sim[i][i] = 0\n",
    "\n",
    "# cos_sim = csc_matrix(cos_sim)\n"
   ]
  },
  {
   "cell_type": "code",
   "execution_count": null,
   "metadata": {},
   "outputs": [
    {
     "name": "stdout",
     "output_type": "stream",
     "text": [
      "(5903, 5903)\n"
     ]
    }
   ],
   "source": [
    "# print(cos_sim.shape)"
   ]
  },
  {
   "cell_type": "code",
   "execution_count": null,
   "metadata": {},
   "outputs": [
    {
     "name": "stdout",
     "output_type": "stream",
     "text": [
      "0.0\n"
     ]
    }
   ],
   "source": [
    "# print(cos_sim.min())"
   ]
  },
  {
   "cell_type": "code",
   "execution_count": null,
   "metadata": {},
   "outputs": [],
   "source": [
    "#cos_sim=cos_sim+0.000000000001"
   ]
  },
  {
   "cell_type": "code",
   "execution_count": null,
   "metadata": {},
   "outputs": [],
   "source": []
  },
  {
   "cell_type": "code",
   "execution_count": null,
   "metadata": {},
   "outputs": [
    {
     "name": "stdout",
     "output_type": "stream",
     "text": [
      "\n",
      "\\START BUILDING CLUSTERS\n",
      "\n",
      "\n"
     ]
    }
   ],
   "source": [
    "number_of_clusters = 3\n",
    "print(\"\\n\\START BUILDING CLUSTERS\\n\\n\")\n",
    "sc = SpectralClustering(n_clusters=number_of_clusters,n_components=10,n_neighbors=10,random_state=40,affinity='precomputed_nearest_neighbors', n_init=100, assign_labels='kmeans').fit(neighbours)\n",
    "labels = sc.labels_"
   ]
  },
  {
   "cell_type": "code",
   "execution_count": null,
   "metadata": {},
   "outputs": [
    {
     "name": "stdout",
     "output_type": "stream",
     "text": [
      "5901\n"
     ]
    }
   ],
   "source": [
    "print(len(labels))"
   ]
  },
  {
   "cell_type": "code",
   "execution_count": null,
   "metadata": {},
   "outputs": [
    {
     "name": "stdout",
     "output_type": "stream",
     "text": [
      "\n",
      "\\CLUSTERS BUILT\n",
      "\n",
      "\n"
     ]
    }
   ],
   "source": [
    "print(\"\\n\\CLUSTERS BUILT\\n\\n\")\n",
    "cluster_map = pd.DataFrame()\n",
    "cluster_map['customer_id'] = user_X_movie_zeros.index.values\n",
    "cluster_map['cluster_no'] = labels"
   ]
  },
  {
   "cell_type": "code",
   "execution_count": null,
   "metadata": {},
   "outputs": [
    {
     "name": "stdout",
     "output_type": "stream",
     "text": [
      "Saving cluster map\n"
     ]
    }
   ],
   "source": [
    "cluster_map.rename(columns = {'customer_id':'customer-id'}, inplace = True)\n",
    "\n",
    "print(\"Saving cluster map\")\n",
    "cluster_map.to_csv('clusterMap.csv')"
   ]
  },
  {
   "cell_type": "code",
   "execution_count": null,
   "metadata": {},
   "outputs": [],
   "source": [
    "training_data_with_labels = pd.merge(training_data1, cluster_map, on='customer-id')"
   ]
  },
  {
   "cell_type": "code",
   "execution_count": null,
   "metadata": {},
   "outputs": [],
   "source": [
    "for i in range(number_of_clusters):\n",
    "    rows_from_same_cluster = training_data_with_labels[training_data_with_labels['cluster_no']==i]\n",
    "    rows_from_same_cluster.to_csv('clustered_records_'+str(i)+'.csv',index=False)"
   ]
  },
  {
   "cell_type": "code",
   "execution_count": null,
   "metadata": {},
   "outputs": [
    {
     "name": "stdout",
     "output_type": "stream",
     "text": [
      "\n",
      "\n",
      "CREATING CSVs\n",
      "\n",
      "\n",
      "\n",
      "\n",
      "CREATED ALL CSVs\n",
      "\n",
      "\n"
     ]
    }
   ],
   "source": [
    "\n",
    "for i in range(3):\n",
    "    clustered_records = pd.read_csv(\"clustered_records_\"+str(i)+\".csv\")\n",
    "    unique_m_ids = clustered_records['movie-id'].unique()\n",
    "    clustered_records['mean_rating'] = 0\n",
    "    \n",
    "    for mid in unique_m_ids:\n",
    "        intermediate_rating = clustered_records[clustered_records['movie-id']==mid]['rating']\n",
    "        \n",
    "        intermediate_rating[intermediate_rating!=0]\n",
    "        mean_rating=4\n",
    "\n",
    "        if(intermediate_rating.mean() > 5):\n",
    "            mean_rating=5\n",
    "        elif(intermediate_rating.mean() < 1):\n",
    "            mean_rating=1\n",
    "        else:\n",
    "             mean_rating = round(intermediate_rating.mean())\n",
    "\n",
    "        clustered_records.loc[clustered_records['movie-id']==mid, 'mean_rating'] = mean_rating\n",
    "        \n",
    "    clustered_records['mean_rating'] = clustered_records['mean_rating'].astype(int)\n",
    "    clustered_records.to_csv('clustered_records_'+str(i)+'.csv',index=False)\n",
    "\n"
   ]
  },
  {
   "cell_type": "code",
   "execution_count": null,
   "metadata": {},
   "outputs": [
    {
     "name": "stderr",
     "output_type": "stream",
     "text": [
      "/tmp/ipykernel_3154856/3725127420.py:10: FutureWarning: The frame.append method is deprecated and will be removed from pandas in a future version. Use pandas.concat instead.\n",
      "  final_search_cluster = c0.append([c1,c2]) #,c3,c4])\n"
     ]
    },
    {
     "name": "stdout",
     "output_type": "stream",
     "text": [
      "\n",
      "\n",
      "STARTING TESTs\n",
      "\n",
      "\n"
     ]
    }
   ],
   "source": [
    "c0 = pd.read_csv(\"clustered_records_0.csv\")\n",
    "c1 = pd.read_csv(\"clustered_records_1.csv\")\n",
    "c2 = pd.read_csv(\"clustered_records_2.csv\")\n",
    "# c3 = pd.read_csv(\"clustered_records_3.csv\")\n",
    "# c4 = pd.read_csv(\"clustered_records_4.csv\")\n",
    "\n",
    "\n",
    "\n",
    "\n",
    "final_search_cluster = c0.append([c1,c2]) #,c3,c4])\n",
    "final_search_cluster.to_csv(\"final_search_cluster.csv\")\n",
    "\n"
   ]
  },
  {
   "cell_type": "code",
   "execution_count": null,
   "metadata": {},
   "outputs": [],
   "source": [
    "\n",
    "validation_data_clean_actual = pd.concat([validation_data['movie-id'], validation_data['customer-id'], validation_data['rating']], axis=1)\n",
    "validation_data_clean_to_predict = pd.concat([validation_data['movie-id'], validation_data['customer-id'], validation_data['rating']], axis=1)\n",
    "\n"
   ]
  },
  {
   "cell_type": "code",
   "execution_count": null,
   "metadata": {},
   "outputs": [
    {
     "name": "stderr",
     "output_type": "stream",
     "text": [
      "100000it [02:54, 572.76it/s]\n"
     ]
    },
    {
     "name": "stdout",
     "output_type": "stream",
     "text": [
      "validation_data_clean_to_predict : \n",
      "         movie-id  customer-id  rating  mean_rating\n",
      "309190      9491        29948     4.0          4.0\n",
      "240953      9233        11583     4.0          4.0\n",
      "609687     11283        13017     4.0          4.0\n",
      "757042      1145        18122     3.0          3.0\n",
      "788110     15156        10593     4.0          4.0\n",
      "MSE :  1.14443\n"
     ]
    }
   ],
   "source": [
    "recno = 0\n",
    "for index, row in tqdm(validation_data_clean_to_predict.iterrows()):\n",
    "    recno+=1\n",
    "    movie_id, customer_id = row['movie-id'], row['customer-id']\n",
    "    try:\n",
    "        cluster_number = cluster_map[cluster_map['customer-id'] == customer_id]['cluster_no'].iloc[0]\n",
    "\n",
    "        mean_rating = final_search_cluster[final_search_cluster['movie-id']==movie_id]['mean_rating'].iloc[0]\n",
    "    except:\n",
    "\n",
    "        mean_rating = 3\n",
    "\n",
    "  \n",
    "    validation_data_clean_to_predict.at[index,'mean_rating'] = mean_rating\n",
    "\n",
    "validation_data_clean_to_predict.to_csv(\"validation_predictions.csv\")\n",
    "\n",
    "print(\"validation_data_clean_to_predict : \\n\",validation_data_clean_to_predict.head(5))\n",
    "\n",
    "mse = mean_squared_error(validation_data_clean_actual['rating'], validation_data_clean_to_predict['mean_rating'])\n",
    "print(\"MSE : \",mse)\n"
   ]
  },
  {
   "cell_type": "code",
   "execution_count": null,
   "metadata": {},
   "outputs": [],
   "source": [
    "lol=validation_data_clean_to_predict['mean_rating']\n",
    "lollist=lol.tolist()\n",
    "\n",
    "for i in range(len(lollist)):\n",
    "    lollist[i]=5\n"
   ]
  },
  {
   "cell_type": "code",
   "execution_count": null,
   "metadata": {},
   "outputs": [
    {
     "ename": "NameError",
     "evalue": "name 'pd' is not defined",
     "output_type": "error",
     "traceback": [
      "\u001b[0;31m---------------------------------------------------------------------------\u001b[0m",
      "\u001b[0;31mNameError\u001b[0m                                 Traceback (most recent call last)",
      "\u001b[1;32m/mnt/data0/haskari/ML/Spectral_Clustering_Final.ipynb Cell 26'\u001b[0m in \u001b[0;36m<cell line: 1>\u001b[0;34m()\u001b[0m\n\u001b[0;32m----> <a href='vscode-notebook-cell://ssh-remote%2Bsohrab.idav.ucdavis.edu/mnt/data0/haskari/ML/Spectral_Clustering_Final.ipynb#ch0000025vscode-remote?line=0'>1</a>\u001b[0m test_df \u001b[39m=\u001b[39m pd\u001b[39m.\u001b[39mread_csv(\u001b[39m\"\u001b[39m\u001b[39mtest.csv\u001b[39m\u001b[39m\"\u001b[39m, names\u001b[39m=\u001b[39m[\u001b[39m'\u001b[39m\u001b[39mmovie_id\u001b[39m\u001b[39m'\u001b[39m,\u001b[39m'\u001b[39m\u001b[39mcustomer-id\u001b[39m\u001b[39m'\u001b[39m,\u001b[39m'\u001b[39m\u001b[39mrating\u001b[39m\u001b[39m'\u001b[39m, \u001b[39m'\u001b[39m\u001b[39mdate\u001b[39m\u001b[39m'\u001b[39m])\n\u001b[1;32m      <a href='vscode-notebook-cell://ssh-remote%2Bsohrab.idav.ucdavis.edu/mnt/data0/haskari/ML/Spectral_Clustering_Final.ipynb#ch0000025vscode-remote?line=2'>3</a>\u001b[0m test_df[\u001b[39m'\u001b[39m\u001b[39mrating\u001b[39m\u001b[39m'\u001b[39m]\u001b[39m=\u001b[39m\u001b[39m0\u001b[39m\n\u001b[1;32m      <a href='vscode-notebook-cell://ssh-remote%2Bsohrab.idav.ucdavis.edu/mnt/data0/haskari/ML/Spectral_Clustering_Final.ipynb#ch0000025vscode-remote?line=3'>4</a>\u001b[0m \u001b[39mprint\u001b[39m(test_df\u001b[39m.\u001b[39mhead)\n",
      "\u001b[0;31mNameError\u001b[0m: name 'pd' is not defined"
     ]
    }
   ],
   "source": [
    "test_df = pd.read_csv(\"test.csv\", names=['movie_id','customer-id','rating', 'date'])\n",
    "\n",
    "test_df['rating']=0\n",
    "print(test_df.head)\n",
    "\n",
    "recno = 0\n",
    "for index, row in test_df.iterrows():\n",
    "    recno+=1\n",
    "    movie_id, customer_id = row['movie_id'], row['customer-id']\n",
    "   \n",
    "    \n",
    "    try:\n",
    "        cluster_number = cluster_map[cluster_map['customer-id'] == customer_id]['cluster_no'].iloc[0]\n",
    "        mean_rating = final_search_cluster[final_search_cluster['movie-id']==movie_id]['mean_rating'].iloc[0]\n",
    "        \n",
    "        \n",
    "    except:\n",
    "        mean_rating = 3\n",
    "\n",
    "    test_df.at[index,'mean_rating'] = mean_rating\n",
    "    print(\"mean_rating = \",mean_rating, \"\\t #record = \",recno)\n",
    "\n",
    "print(\"test_df : \\n\",test_df.head(5))\n",
    "\n",
    "test_df.to_csv(\"SPECTRAL_TEST_PREDICTIONS.csv\")\n",
    "test_rating = test_df['mean_rating'].tolist()\n",
    "with open('spectral_prediction_results.txt', 'w') as file:\n",
    "    for result in test_rating:\n",
    "        file.write('%d\\n' % result)"
   ]
  }
 ],
 "metadata": {
  "interpreter": {
   "hash": "f04cd1d06886cd651a83ba08a3456fa4c7154b53c382870142b18df9f99f9329"
  },
  "kernelspec": {
   "display_name": "Python 3.10.4 ('ML')",
   "language": "python",
   "name": "python3"
  },
  "language_info": {
   "codemirror_mode": {
    "name": "ipython",
    "version": 3
   },
   "file_extension": ".py",
   "mimetype": "text/x-python",
   "name": "python",
   "nbconvert_exporter": "python",
   "pygments_lexer": "ipython3",
   "version": "3.9.0"
  },
  "orig_nbformat": 4
 },
 "nbformat": 4,
 "nbformat_minor": 2
}
